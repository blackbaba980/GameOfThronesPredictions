{
  "nbformat": 4,
  "nbformat_minor": 0,
  "metadata": {
    "colab": {
      "provenance": [],
      "authorship_tag": "ABX9TyOUCUw2T3VpFEoPaxtqDQsC",
      "include_colab_link": true
    },
    "kernelspec": {
      "name": "python3",
      "display_name": "Python 3"
    },
    "language_info": {
      "name": "python"
    }
  },
  "cells": [
    {
      "cell_type": "markdown",
      "metadata": {
        "id": "view-in-github",
        "colab_type": "text"
      },
      "source": [
        "<a href=\"https://colab.research.google.com/github/blackbaba980/GameOfThronesPredictions/blob/main/code/GameOfThronesPrediction.ipynb\" target=\"_parent\"><img src=\"https://colab.research.google.com/assets/colab-badge.svg\" alt=\"Open In Colab\"/></a>"
      ]
    },
    {
      "cell_type": "code",
      "source": [
        "!pip3 install torch_sparse"
      ],
      "metadata": {
        "colab": {
          "base_uri": "https://localhost:8080/"
        },
        "id": "N3UIVAA4mRuZ",
        "outputId": "e794347c-4cba-4546-8b85-8ba74e4b3218"
      },
      "execution_count": 78,
      "outputs": [
        {
          "output_type": "stream",
          "name": "stdout",
          "text": [
            "Looking in indexes: https://pypi.org/simple, https://us-python.pkg.dev/colab-wheels/public/simple/\n",
            "Collecting torch_sparse\n",
            "  Downloading torch_sparse-0.6.15.tar.gz (2.1 MB)\n",
            "\u001b[K     |████████████████████████████████| 2.1 MB 5.2 MB/s \n",
            "\u001b[?25hRequirement already satisfied: scipy in /usr/local/lib/python3.7/dist-packages (from torch_sparse) (1.7.3)\n",
            "Requirement already satisfied: numpy<1.23.0,>=1.16.5 in /usr/local/lib/python3.7/dist-packages (from scipy->torch_sparse) (1.21.6)\n",
            "Building wheels for collected packages: torch-sparse\n",
            "  Building wheel for torch-sparse (setup.py) ... \u001b[?25l\u001b[?25hdone\n",
            "  Created wheel for torch-sparse: filename=torch_sparse-0.6.15-cp37-cp37m-linux_x86_64.whl size=516862 sha256=a27a611c6c01b56b0c597dbec85e252da3334ce324ec5715b7329eb558d6fb7c\n",
            "  Stored in directory: /root/.cache/pip/wheels/15/68/4d/1414be5c2c622bad35364e13213180797717b6d4b8923936dc\n",
            "Successfully built torch-sparse\n",
            "Installing collected packages: torch-sparse\n",
            "Successfully installed torch-sparse-0.6.15\n"
          ]
        }
      ]
    },
    {
      "cell_type": "code",
      "source": [
        "import pandas as pd\n",
        "import numpy as np\n",
        "import networkx as nx\n",
        "import matplotlib.pyplot as plt\n",
        "\n",
        "\n",
        "import math\n",
        "import time\n",
        "\n",
        "import torch\n",
        "\n",
        "from torch.nn.parameter import Parameter\n",
        "from torch.nn.modules.module import Module\n",
        "import torch.nn as nn\n",
        "import torch.nn.functional as F\n",
        "import torch.optim as optim\n",
        "\n",
        "random_seed = 7\n",
        "#set the random seeds \n",
        "np.random.seed(random_seed)\n",
        "torch.manual_seed(random_seed)\n",
        "torch.cuda.manual_seed(random_seed)\n",
        "\n",
        "epochs = 200\n",
        "lr = 0.01\n",
        "weight_decay = 5e-4\n",
        "hidden_units = 16\n",
        "dropout = 0.5"
      ],
      "metadata": {
        "id": "fRuZ-leNoWmV"
      },
      "execution_count": 2,
      "outputs": []
    },
    {
      "cell_type": "markdown",
      "source": [
        "# Dataset Preprocessing\n"
      ],
      "metadata": {
        "id": "YTBs49giep8h"
      }
    },
    {
      "cell_type": "code",
      "source": [
        "#per season adjaceny matrix, features of every node\n",
        "\n",
        "\n",
        "def load_data(season_no):\n",
        "\n",
        "  #read the edge and node files\n",
        "  dir = \"./data/\"\n",
        "  edge_file = dir + \"got-s\" + str(season_no) + \"-edges.csv\"\n",
        "  node_file = dir + \"got-s\" + str(season_no) + \"-m-nodes.csv\"\n",
        "\n",
        "  edges = pd.read_csv(edge_file)\n",
        "  nodes = pd.read_csv(node_file)\n",
        "  \n",
        "  \n",
        "  #only get those edges where the nodes are present\n",
        "  node_ids = nodes['CHARACTERS ID']\n",
        "  node_ids_reverse = node_ids.to_dict()\n",
        "  node_ids = {v: k for k, v in node_ids_reverse.items()}\n",
        "  \n",
        "  #remove unnecessary columns\n",
        "  features = nodes.drop(['CHARACTERS ID'], axis=1)\n",
        "  features = (features-features.mean())/features.std()\n",
        "  features = torch.from_numpy(features.to_numpy().astype(np.float32))\n",
        "  edges = edges.drop(['Season'], axis=1)\n",
        "  \n",
        "  #Adjacency matrix\n",
        "  gr = nx.Graph()\n",
        "  adj = np.zeros( (len(node_ids),len(node_ids)) )\n",
        "\n",
        "  for i in range(len(edges)):\n",
        "    if edges.iloc[i]['Source'] in node_ids and edges.iloc[i]['Target'] in node_ids:\n",
        "      src_index = node_ids[edges.iloc[i]['Source']]\n",
        "      dst_index = node_ids[edges.iloc[i]['Target']]\n",
        "      gr.add_edge(src_index, dst_index, weight=edges.iloc[i]['Weight'])\n",
        "      adj[src_index][dst_index] = edges.iloc[i]['Weight']\n",
        "\n",
        "\n",
        "  adj = torch.from_numpy(adj.astype(np.float32))\n",
        "\n",
        "\n",
        "  return features, adj, gr, node_ids\n",
        "\n",
        "  #return torch.from_numpy(features.to_numpy()), torch.from_numpy(adj), gr, node_ids\n",
        "  #return nodes, edges\n",
        "\n",
        "\n",
        "\n",
        "features, adj, graph, node_ids = load_data(1)\n"
      ],
      "metadata": {
        "id": "Mjvqkoj-nhJm"
      },
      "execution_count": 67,
      "outputs": []
    },
    {
      "cell_type": "markdown",
      "source": [
        "# Per Season Graph"
      ],
      "metadata": {
        "id": "klcLvTsoeuwh"
      }
    },
    {
      "cell_type": "code",
      "execution_count": 55,
      "metadata": {
        "id": "D71_Gl_FiGEj"
      },
      "outputs": [],
      "source": []
    },
    {
      "cell_type": "markdown",
      "source": [
        "# Generative Model"
      ],
      "metadata": {
        "id": "nhshsmDAe67g"
      }
    },
    {
      "cell_type": "code",
      "source": [
        "class GraphConvolution(Module):\n",
        "  def __init__(self, in_features, out_features, bias=True):\n",
        "    super(GraphConvolution, self).__init__()\n",
        "    self.in_features = in_features\n",
        "    self.out_features = out_features\n",
        "    self.weight = Parameter(torch.FloatTensor(in_features, out_features))\n",
        "    if bias:\n",
        "        self.bias = Parameter(torch.FloatTensor(out_features))\n",
        "    else:\n",
        "        self.register_parameter('bias', None)\n",
        "    self.reset_parameters()\n",
        "\n",
        "  def reset_parameters(self):\n",
        "    stdv = 1. / math.sqrt(self.weight.size(1))\n",
        "    self.weight.data.uniform_(-stdv, stdv)\n",
        "    if self.bias is not None:\n",
        "        self.bias.data.uniform_(-stdv, stdv)\n",
        "\n",
        "  def forward(self, input, adj):\n",
        "    support = torch.mm(input, self.weight)\n",
        "    output = torch.mm(adj, support)\n",
        "    if self.bias is not None:\n",
        "        return output + self.bias\n",
        "    else:\n",
        "        return output\n",
        "\n",
        "  def __repr__(self):\n",
        "    return self.__class__.__name__ + ' (' \\\n",
        "            + str(self.in_features) + ' -> ' \\\n",
        "            + str(self.out_features) + ')'"
      ],
      "metadata": {
        "id": "dEftmPWCfCRR"
      },
      "execution_count": 91,
      "outputs": []
    },
    {
      "cell_type": "code",
      "source": [
        "class Encoder(nn.Module):\n",
        "  def __init__(self, nfeat, nhid, nclass, dropout):\n",
        "    super(Encoder, self).__init__()\n",
        "\n",
        "    self.conv = GraphConvolution(nfeat, nhid)\n",
        "    self.mu = GraphConvolution(nhid, nclass)\n",
        "    self.sig = GraphConvolution(nhid, nclass)    \n",
        "\n",
        "    \n",
        "    self.dropout = dropout\n",
        "    self.embeddings = []\n",
        "\n",
        "  def forward(self, x, adj, save_embeddings = False):\n",
        "    x = F.relu(self.conv(x, adj))\n",
        "    mu = self.mu(x, adj)\n",
        "    logvar = self.sig(x, adj)\n",
        "    return mu, logvar\n",
        "    "
      ],
      "metadata": {
        "id": "wiXzqN7v5Wjz"
      },
      "execution_count": 100,
      "outputs": []
    },
    {
      "cell_type": "code",
      "source": [
        "from torch_geometric.nn.models import InnerProductDecoder, VGAE"
      ],
      "metadata": {
        "id": "YAw69RKpzSkd"
      },
      "execution_count": 108,
      "outputs": []
    },
    {
      "cell_type": "code",
      "source": [],
      "metadata": {
        "id": "Bp9yVz4A5Ka2"
      },
      "execution_count": 108,
      "outputs": []
    },
    {
      "cell_type": "code",
      "source": [
        "class Decoder(nn.Module):\n",
        "  def __init__(self, latent_dim, output_dim):\n",
        "    super(Decoder, self).__init__()\n",
        "    self.decoder = InnerProductDecoder()\n",
        "    \n",
        "\n",
        "\n",
        "  def forward_all(self, x, sigmoid = 'True'):\n",
        "    #first find whether there is edge or not => THis would be the reconstruction loss\n",
        "    #then find the weights\n",
        "    y = self.decoder.forward_all(x, sigmoid = sigmoid)\n",
        "    return y\n",
        "\n",
        "  def forward(self, x, edge_index , sigmoid = 'True'):\n",
        "    y = self.decoder(x, edge_index, sigmoid = sigmoid)\n",
        "    return y\n",
        "\n",
        "\n",
        "\n"
      ],
      "metadata": {
        "id": "tbdANBJicAnM"
      },
      "execution_count": 188,
      "outputs": []
    },
    {
      "cell_type": "code",
      "source": [
        "from torch_geometric.utils import negative_sampling, remove_self_loops, add_self_loops\n",
        "\n",
        "class DeepVGAE(VGAE):\n",
        "  def __init__(self):\n",
        "    super(DeepVGAE, self).__init__(encoder=Encoder(10, 20, 1, dropout), decoder= Decoder(42,1))\n",
        "\n",
        "\n",
        "  def forward(self, x, adj):\n",
        "    z = self.encode(x, adj)\n",
        "    adj_pred = self.decoder.forward_all(z)\n",
        "    return adj_pred\n",
        "\n",
        "  def loss(self, x, adj, pos_edge_index, all_edge_index):\n",
        "    z = self.encode(x, adj)\n",
        "\n",
        "    kl_loss = 1 / x.size(0) * self.kl_loss()\n",
        "\n",
        "    return self.recon_loss(z, pos_edge_index) + kl_loss\n",
        "\n"
      ],
      "metadata": {
        "id": "tgVqkdRvyji8"
      },
      "execution_count": 209,
      "outputs": []
    },
    {
      "cell_type": "code",
      "source": [
        "enc = Encoder(10, 20, 1, dropout)"
      ],
      "metadata": {
        "id": "dwFMRHl56E0Z"
      },
      "execution_count": 210,
      "outputs": []
    },
    {
      "cell_type": "code",
      "source": [
        "model = DeepVGAE()"
      ],
      "metadata": {
        "id": "3kDukn786JhJ"
      },
      "execution_count": 211,
      "outputs": []
    },
    {
      "cell_type": "code",
      "source": [
        "optimizer = torch.optim.Adam(model.parameters(), lr=0.001)"
      ],
      "metadata": {
        "id": "CcxuCBiT65Fv"
      },
      "execution_count": 212,
      "outputs": []
    },
    {
      "cell_type": "code",
      "source": [
        "out = model(features, adj)\n"
      ],
      "metadata": {
        "id": "o5NA_6JO7VeO"
      },
      "execution_count": 213,
      "outputs": []
    },
    {
      "cell_type": "code",
      "source": [
        "l = model.loss(features, adj, pyg_graph.edge_index, pyg_graph.edge_index)\n",
        "print(l)\n",
        "l.backward()"
      ],
      "metadata": {
        "colab": {
          "base_uri": "https://localhost:8080/"
        },
        "id": "whzcj9MM7VZP",
        "outputId": "8141048a-9653-4f46-9a6d-6ace1f23b94f"
      },
      "execution_count": 214,
      "outputs": [
        {
          "output_type": "stream",
          "name": "stdout",
          "text": [
            "tensor(1983913.3750, grad_fn=<AddBackward0>)\n"
          ]
        }
      ]
    },
    {
      "cell_type": "code",
      "source": [
        "optimizer.step()"
      ],
      "metadata": {
        "id": "XXM19tAbsUV7"
      },
      "execution_count": 215,
      "outputs": []
    },
    {
      "cell_type": "code",
      "source": [
        "from torch_geometric.utils.convert import from_networkx\n",
        "pyg_graph = from_networkx(graph)"
      ],
      "metadata": {
        "id": "7ZI5A64-61dy"
      },
      "execution_count": 216,
      "outputs": []
    },
    {
      "cell_type": "code",
      "source": [],
      "metadata": {
        "colab": {
          "base_uri": "https://localhost:8080/"
        },
        "id": "ci1T5Y4k7jB6",
        "outputId": "f8a71d20-fd6f-45d6-d77f-7add51a83004"
      },
      "execution_count": 89,
      "outputs": [
        {
          "output_type": "execute_result",
          "data": {
            "text/plain": [
              "tensor([[ 0,  0,  0,  0,  0,  0,  0,  0,  0,  0,  0,  0,  0,  0,  0,  0,  0,  0,\n",
              "          0,  1,  1,  1,  1,  1,  1,  1,  1,  1,  1,  1,  1,  1,  1,  1,  1,  1,\n",
              "          1,  1,  2,  2,  2,  2,  2,  2,  2,  2,  3,  3,  3,  3,  3,  4,  4,  4,\n",
              "          4,  4,  4,  4,  4,  4,  4,  4,  4,  5,  5,  5,  5,  6,  6,  6,  6,  6,\n",
              "          6,  6,  6,  6,  6,  6,  6,  6,  7,  7,  7,  7,  7,  7,  7,  7,  7,  7,\n",
              "          7,  7,  7,  7,  7,  7,  8,  8,  8,  8,  8,  8,  8,  8,  8,  8,  8,  8,\n",
              "          8,  8,  8,  9,  9,  9,  9, 10, 10, 10, 10, 10, 10, 10, 10, 10, 10, 10,\n",
              "         10, 10, 10, 10, 10, 11, 11, 11, 11, 11, 11, 11, 11, 11, 11, 11, 11, 11,\n",
              "         11, 11, 12, 12, 12, 13, 13, 13, 13, 13, 13, 13, 13, 13, 13, 13, 13, 13,\n",
              "         13, 14, 14, 14, 14, 14, 14, 14, 14, 14, 14, 14, 15, 15, 15, 15, 16, 16,\n",
              "         16, 16, 16, 16, 16, 16, 16, 16, 17, 17, 17, 17, 17, 17, 18, 18, 18, 18,\n",
              "         18, 18, 18, 18, 18, 18, 18, 18, 19, 19, 19, 19, 19, 19, 19, 20, 20, 20,\n",
              "         20, 20, 20, 20, 20, 20, 20, 20, 20, 20, 21, 21, 21, 21, 21, 21, 21, 21,\n",
              "         21, 21, 22, 22, 22, 23, 23, 23, 23, 23, 24, 24],\n",
              "        [ 1,  4,  6, 11,  7, 20, 14, 13, 21, 18,  8, 19, 22, 10, 16, 23,  2, 17,\n",
              "          3,  0, 11, 13, 20, 14,  7,  4,  6, 16, 21, 10, 15,  2,  8, 23, 17, 18,\n",
              "          5, 24,  0,  1,  3,  5, 15,  4,  7, 14,  0,  2, 15,  5,  4,  0,  1,  2,\n",
              "          3, 13, 11,  7, 14,  6, 22,  8, 10,  1,  2,  3, 15,  0,  1,  4, 14, 13,\n",
              "         18, 11,  7, 22,  8, 21, 20, 10,  0,  1,  2,  4,  6,  8, 10, 21, 20, 11,\n",
              "         19, 18, 14,  9, 16, 13,  0,  1,  4,  6,  7, 19, 21, 18, 10, 13, 20, 14,\n",
              "         11, 16, 23,  7, 10, 12, 16,  0,  1,  4,  6,  7,  8,  9, 12, 16, 18, 20,\n",
              "         19, 11, 21, 17, 13,  0,  1,  4,  6,  7,  8, 10, 13, 20, 14, 21, 18, 16,\n",
              "         17, 23,  9, 10, 16,  0,  1,  4,  6,  7,  8, 10, 11, 14, 20, 16, 17, 18,\n",
              "         24,  0,  1,  2,  4,  6,  7,  8, 11, 13, 20, 23,  1,  2,  3,  5,  0,  1,\n",
              "          7,  8,  9, 10, 11, 12, 13, 20,  0,  1, 10, 11, 13, 18,  0,  1,  6,  7,\n",
              "          8, 10, 11, 13, 17, 21, 20, 19,  0,  7,  8, 10, 18, 21, 20,  0,  1,  6,\n",
              "          7,  8, 10, 11, 13, 14, 16, 18, 19, 21,  0,  1,  6,  7,  8, 10, 11, 18,\n",
              "         19, 20,  0,  4,  6,  0,  1,  8, 11, 14,  1, 13]])"
            ]
          },
          "metadata": {},
          "execution_count": 89
        }
      ]
    },
    {
      "cell_type": "code",
      "source": [],
      "metadata": {
        "id": "bfdGwhR_7sNC"
      },
      "execution_count": null,
      "outputs": []
    }
  ]
}