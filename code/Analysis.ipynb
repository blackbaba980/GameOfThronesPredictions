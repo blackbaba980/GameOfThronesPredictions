{
  "cells": [
    {
      "cell_type": "code",
      "execution_count": 1,
      "metadata": {
        "colab": {
          "base_uri": "https://localhost:8080/"
        },
        "id": "EariuVWZy90N",
        "outputId": "b3895992-b958-46fb-ec74-9143b5efa06d"
      },
      "outputs": [
        {
          "name": "stdout",
          "output_type": "stream",
          "text": [
            "Looking in indexes: https://pypi.org/simple, https://us-python.pkg.dev/colab-wheels/public/simple/\n",
            "Requirement already satisfied: torch_sparse in /usr/local/lib/python3.7/dist-packages (0.6.15+pt113cpu)\n",
            "Requirement already satisfied: scipy in /usr/local/lib/python3.7/dist-packages (from torch_sparse) (1.7.3)\n",
            "Requirement already satisfied: numpy<1.23.0,>=1.16.5 in /usr/local/lib/python3.7/dist-packages (from scipy->torch_sparse) (1.21.6)\n"
          ]
        }
      ],
      "source": [
        "!pip3 install torch_sparse"
      ]
    },
    {
      "cell_type": "code",
      "execution_count": 3,
      "metadata": {
        "id": "fRuZ-leNoWmV"
      },
      "outputs": [],
      "source": [
        "import pandas as pd\n",
        "import numpy as np\n",
        "import networkx as nx\n",
        "import matplotlib.pyplot as plt\n",
        "\n",
        "\n",
        "import math\n",
        "import time\n",
        "\n",
        "import torch\n",
        "\n",
        "from torch.nn.parameter import Parameter\n",
        "from torch.nn.modules.module import Module\n",
        "import torch.nn as nn\n",
        "import torch.nn.functional as F\n",
        "import torch.optim as optim\n",
        "\n",
        "random_seed = 7\n",
        "#set the random seeds \n",
        "np.random.seed(random_seed)\n",
        "torch.manual_seed(random_seed)\n",
        "torch.cuda.manual_seed(random_seed)\n",
        "\n",
        "epochs = 200\n",
        "lr = 0.01\n",
        "weight_decay = 5e-4\n",
        "hidden_units = 16\n",
        "dropout = 0.5"
      ]
    },
    {
      "cell_type": "markdown",
      "metadata": {
        "id": "YTBs49giep8h"
      },
      "source": [
        "# Dataset Preprocessing\n"
      ]
    },
    {
      "cell_type": "code",
      "execution_count": 4,
      "metadata": {
        "id": "RZvJqKdHSnTc"
      },
      "outputs": [],
      "source": [
        "import zipfile\n",
        "         \n",
        "zip = zipfile.ZipFile('/content/data (mod).zip')\n",
        "zip.extractall('/content')\n",
        "\n",
        "zip.close()"
      ]
    },
    {
      "cell_type": "code",
      "execution_count": 5,
      "metadata": {
        "id": "Mjvqkoj-nhJm"
      },
      "outputs": [],
      "source": [
        "#per season adjaceny matrix, features of every node\n",
        "\n",
        "\n",
        "def load_data(season_no):\n",
        "\n",
        "  #read the edge and node files\n",
        "  dir = \"./data/\"\n",
        "  edge_file = dir + \"got-s\" + str(season_no) + \"-edges.csv\"\n",
        "  node_file = dir + \"got-s\" + str(season_no) + \"-m-nodes.csv\"\n",
        "\n",
        "  edges = pd.read_csv(edge_file)\n",
        "  nodes = pd.read_csv(node_file)\n",
        "  \n",
        "  \n",
        "  #only get those edges where the nodes are present\n",
        "  node_ids = nodes['CHARACTERS ID']\n",
        "#   print(node_ids.head())\n",
        "  node_ids_reverse = node_ids.to_dict()\n",
        "  node_ids = {v: k for k, v in node_ids_reverse.items()}\n",
        "#   print(len(node_ids))\n",
        "  \n",
        "  #remove unnecessary columns\n",
        "  features = nodes.drop(['CHARACTERS ID'], axis=1)\n",
        "  features = (features-features.mean())/features.std()\n",
        "  features = torch.from_numpy(features.to_numpy().astype(np.float32))\n",
        "  edges = edges.drop(['Season'], axis=1)\n",
        "  \n",
        "  # initializing graph\n",
        "  gr = nx.Graph()\n",
        "  gr.add_nodes_from([i for i in range(len(node_ids))])\n",
        "\n",
        "  #Adjacency matrix\n",
        "  adj = np.zeros( (len(node_ids),len(node_ids)) )\n",
        "\n",
        "  for i in range(len(edges)):\n",
        "    if edges.iloc[i]['Source'] in node_ids and edges.iloc[i]['Target'] in node_ids:\n",
        "      src_index = node_ids[edges.iloc[i]['Source']]\n",
        "      dst_index = node_ids[edges.iloc[i]['Target']]\n",
        "      gr.add_edge(src_index, dst_index, weight=edges.iloc[i]['Weight'])\n",
        "      adj[src_index][dst_index] = edges.iloc[i]['Weight']\n",
        "      adj[dst_index][src_index] = edges.iloc[i]['Weight']\n",
        "\n",
        "  adj = torch.from_numpy(adj.astype(np.float32))\n",
        "\n",
        "  return features, adj, gr, node_ids\n",
        "\n",
        "  #return torch.from_numpy(features.to_numpy()), torch.from_numpy(adj), gr, node_ids\n",
        "  #return nodes, edges\n",
        "\n",
        "\n",
        "\n",
        "features, adj, graph, node_ids = load_data(1)"
      ]
    },
    {
      "cell_type": "code",
      "execution_count": 11,
      "metadata": {
        "colab": {
          "base_uri": "https://localhost:8080/"
        },
        "id": "1tp3EdALWzKO",
        "outputId": "d2f00bb7-cf9c-4e1a-e9e3-86bc3fe9f54f"
      },
      "outputs": [
        {
          "data": {
            "text/plain": [
              "{22: 5,\n",
              " 27: 5,\n",
              " 4: 5,\n",
              " 36: 5,\n",
              " 5: 5,\n",
              " 26: 5,\n",
              " 15: 5,\n",
              " 0: 4,\n",
              " 13: 4,\n",
              " 16: 2,\n",
              " 6: 1,\n",
              " 30: 1,\n",
              " 38: 2,\n",
              " 37: 1}"
            ]
          },
          "execution_count": 11,
          "metadata": {},
          "output_type": "execute_result"
        }
      ],
      "source": [
        "def get_ranking(G, bound):\n",
        "    dc = dict(G.degree())\n",
        "    wdc = dict(G.degree(weight='weight'))\n",
        "    ec = nx.eigenvector_centrality(G, weight='weigth')\n",
        "    pg = nx.pagerank(G, weight='weigth')\n",
        "    bc = nx.betweenness_centrality(G, weight='weigth')\n",
        "    for n in G.nodes():\n",
        "        ec[n] = round(ec[n], 3)\n",
        "        pg[n] = round(pg[n], 3)\n",
        "        bc[n] = round(bc[n], 3)\n",
        "\n",
        "    dict_list = [dc, wdc, ec, pg, bc]\n",
        "    # ranking_list = []\n",
        "    ranking = {}\n",
        "    for d in dict_list:\n",
        "        sorted_dict = sorted(d.items(), key = lambda item: item[1], reverse = True)\n",
        "        sorted_array = np.array(sorted_dict)\n",
        "        # ranking_list += [sorted_array]\n",
        "        \n",
        "        ten_nodes = sorted_array[0:bound][:, 0]\n",
        "        for n in ten_nodes:\n",
        "            if n not in ranking:\n",
        "                ranking[int(n)] = 1\n",
        "            else:\n",
        "                ranking[int(n)] = ranking[int(n)] + 1\n",
        "\n",
        "    return ranking, dict_list\n",
        "\n",
        "ranking, dict_list = get_ranking(graph, 10)\n",
        "ranking"
      ]
    },
    {
      "cell_type": "code",
      "execution_count": 12,
      "metadata": {
        "colab": {
          "base_uri": "https://localhost:8080/",
          "height": 269
        },
        "id": "M0AdJ6H8eBve",
        "outputId": "bded2612-bf7e-44af-a2d2-3671e12a9277"
      },
      "outputs": [
        {
          "data": {
            "text/html": [
              "\n",
              "  <div id=\"df-3620fe1d-d3f5-4d01-aa83-9e96c6ff8100\">\n",
              "    <div class=\"colab-df-container\">\n",
              "      <div>\n",
              "<style scoped>\n",
              "    .dataframe tbody tr th:only-of-type {\n",
              "        vertical-align: middle;\n",
              "    }\n",
              "\n",
              "    .dataframe tbody tr th {\n",
              "        vertical-align: top;\n",
              "    }\n",
              "\n",
              "    .dataframe thead th {\n",
              "        text-align: right;\n",
              "    }\n",
              "</style>\n",
              "<table border=\"1\" class=\"dataframe\">\n",
              "  <thead>\n",
              "    <tr style=\"text-align: right;\">\n",
              "      <th></th>\n",
              "      <th>Node</th>\n",
              "      <th>Degree</th>\n",
              "      <th>Weighted Degree</th>\n",
              "      <th>Eigenvector</th>\n",
              "      <th>Pagerank</th>\n",
              "      <th>Betweenness</th>\n",
              "    </tr>\n",
              "  </thead>\n",
              "  <tbody>\n",
              "    <tr>\n",
              "      <th>0</th>\n",
              "      <td>NED</td>\n",
              "      <td>19</td>\n",
              "      <td>820</td>\n",
              "      <td>0.307</td>\n",
              "      <td>0.066</td>\n",
              "      <td>0.043</td>\n",
              "    </tr>\n",
              "    <tr>\n",
              "      <th>1</th>\n",
              "      <td>ROBERT</td>\n",
              "      <td>19</td>\n",
              "      <td>427</td>\n",
              "      <td>0.297</td>\n",
              "      <td>0.068</td>\n",
              "      <td>0.066</td>\n",
              "    </tr>\n",
              "    <tr>\n",
              "      <th>2</th>\n",
              "      <td>CATELYN</td>\n",
              "      <td>16</td>\n",
              "      <td>371</td>\n",
              "      <td>0.286</td>\n",
              "      <td>0.055</td>\n",
              "      <td>0.019</td>\n",
              "    </tr>\n",
              "    <tr>\n",
              "      <th>3</th>\n",
              "      <td>TYRION</td>\n",
              "      <td>16</td>\n",
              "      <td>460</td>\n",
              "      <td>0.274</td>\n",
              "      <td>0.056</td>\n",
              "      <td>0.031</td>\n",
              "    </tr>\n",
              "    <tr>\n",
              "      <th>4</th>\n",
              "      <td>CERSEI</td>\n",
              "      <td>15</td>\n",
              "      <td>386</td>\n",
              "      <td>0.279</td>\n",
              "      <td>0.051</td>\n",
              "      <td>0.007</td>\n",
              "    </tr>\n",
              "    <tr>\n",
              "      <th>5</th>\n",
              "      <td>ROBB</td>\n",
              "      <td>15</td>\n",
              "      <td>321</td>\n",
              "      <td>0.281</td>\n",
              "      <td>0.051</td>\n",
              "      <td>0.008</td>\n",
              "    </tr>\n",
              "    <tr>\n",
              "      <th>6</th>\n",
              "      <td>JOFFREY</td>\n",
              "      <td>14</td>\n",
              "      <td>274</td>\n",
              "      <td>0.259</td>\n",
              "      <td>0.049</td>\n",
              "      <td>0.013</td>\n",
              "    </tr>\n",
              "  </tbody>\n",
              "</table>\n",
              "</div>\n",
              "      <button class=\"colab-df-convert\" onclick=\"convertToInteractive('df-3620fe1d-d3f5-4d01-aa83-9e96c6ff8100')\"\n",
              "              title=\"Convert this dataframe to an interactive table.\"\n",
              "              style=\"display:none;\">\n",
              "        \n",
              "  <svg xmlns=\"http://www.w3.org/2000/svg\" height=\"24px\"viewBox=\"0 0 24 24\"\n",
              "       width=\"24px\">\n",
              "    <path d=\"M0 0h24v24H0V0z\" fill=\"none\"/>\n",
              "    <path d=\"M18.56 5.44l.94 2.06.94-2.06 2.06-.94-2.06-.94-.94-2.06-.94 2.06-2.06.94zm-11 1L8.5 8.5l.94-2.06 2.06-.94-2.06-.94L8.5 2.5l-.94 2.06-2.06.94zm10 10l.94 2.06.94-2.06 2.06-.94-2.06-.94-.94-2.06-.94 2.06-2.06.94z\"/><path d=\"M17.41 7.96l-1.37-1.37c-.4-.4-.92-.59-1.43-.59-.52 0-1.04.2-1.43.59L10.3 9.45l-7.72 7.72c-.78.78-.78 2.05 0 2.83L4 21.41c.39.39.9.59 1.41.59.51 0 1.02-.2 1.41-.59l7.78-7.78 2.81-2.81c.8-.78.8-2.07 0-2.86zM5.41 20L4 18.59l7.72-7.72 1.47 1.35L5.41 20z\"/>\n",
              "  </svg>\n",
              "      </button>\n",
              "      \n",
              "  <style>\n",
              "    .colab-df-container {\n",
              "      display:flex;\n",
              "      flex-wrap:wrap;\n",
              "      gap: 12px;\n",
              "    }\n",
              "\n",
              "    .colab-df-convert {\n",
              "      background-color: #E8F0FE;\n",
              "      border: none;\n",
              "      border-radius: 50%;\n",
              "      cursor: pointer;\n",
              "      display: none;\n",
              "      fill: #1967D2;\n",
              "      height: 32px;\n",
              "      padding: 0 0 0 0;\n",
              "      width: 32px;\n",
              "    }\n",
              "\n",
              "    .colab-df-convert:hover {\n",
              "      background-color: #E2EBFA;\n",
              "      box-shadow: 0px 1px 2px rgba(60, 64, 67, 0.3), 0px 1px 3px 1px rgba(60, 64, 67, 0.15);\n",
              "      fill: #174EA6;\n",
              "    }\n",
              "\n",
              "    [theme=dark] .colab-df-convert {\n",
              "      background-color: #3B4455;\n",
              "      fill: #D2E3FC;\n",
              "    }\n",
              "\n",
              "    [theme=dark] .colab-df-convert:hover {\n",
              "      background-color: #434B5C;\n",
              "      box-shadow: 0px 1px 3px 1px rgba(0, 0, 0, 0.15);\n",
              "      filter: drop-shadow(0px 1px 2px rgba(0, 0, 0, 0.3));\n",
              "      fill: #FFFFFF;\n",
              "    }\n",
              "  </style>\n",
              "\n",
              "      <script>\n",
              "        const buttonEl =\n",
              "          document.querySelector('#df-3620fe1d-d3f5-4d01-aa83-9e96c6ff8100 button.colab-df-convert');\n",
              "        buttonEl.style.display =\n",
              "          google.colab.kernel.accessAllowed ? 'block' : 'none';\n",
              "\n",
              "        async function convertToInteractive(key) {\n",
              "          const element = document.querySelector('#df-3620fe1d-d3f5-4d01-aa83-9e96c6ff8100');\n",
              "          const dataTable =\n",
              "            await google.colab.kernel.invokeFunction('convertToInteractive',\n",
              "                                                     [key], {});\n",
              "          if (!dataTable) return;\n",
              "\n",
              "          const docLinkHtml = 'Like what you see? Visit the ' +\n",
              "            '<a target=\"_blank\" href=https://colab.research.google.com/notebooks/data_table.ipynb>data table notebook</a>'\n",
              "            + ' to learn more about interactive tables.';\n",
              "          element.innerHTML = '';\n",
              "          dataTable['output_type'] = 'display_data';\n",
              "          await google.colab.output.renderOutput(dataTable, element);\n",
              "          const docLink = document.createElement('div');\n",
              "          docLink.innerHTML = docLinkHtml;\n",
              "          element.appendChild(docLink);\n",
              "        }\n",
              "      </script>\n",
              "    </div>\n",
              "  </div>\n",
              "  "
            ],
            "text/plain": [
              "      Node  Degree  Weighted Degree  Eigenvector  Pagerank  Betweenness\n",
              "0      NED      19              820        0.307     0.066        0.043\n",
              "1   ROBERT      19              427        0.297     0.068        0.066\n",
              "2  CATELYN      16              371        0.286     0.055        0.019\n",
              "3   TYRION      16              460        0.274     0.056        0.031\n",
              "4   CERSEI      15              386        0.279     0.051        0.007\n",
              "5     ROBB      15              321        0.281     0.051        0.008\n",
              "6  JOFFREY      14              274        0.259     0.049        0.013"
            ]
          },
          "execution_count": 12,
          "metadata": {},
          "output_type": "execute_result"
        }
      ],
      "source": [
        "degree = []\n",
        "weighted_degree = []\n",
        "eigenvector = []\n",
        "pagerank = []\n",
        "betweenness = []\n",
        "\n",
        "ranked_nodes = [22, 27, 4, 36, 5, 26, 15]  # season 1\n",
        "for n in ranked_nodes:\n",
        "    degree += [dict_list[0][n]]\n",
        "    weighted_degree += [dict_list[1][n]]\n",
        "    eigenvector += [dict_list[2][n]]\n",
        "    pagerank += [dict_list[3][n]]\n",
        "    betweenness += [dict_list[4][n]]\n",
        "\n",
        "node_ids_reverse = {v: k for k, v in node_ids.items()}\n",
        "ranked_nodes_name = [node_ids_reverse[n] for n in ranked_nodes]\n",
        "\n",
        "ranking_dict = {'Node': ranked_nodes_name,\n",
        "                'Degree': degree,\n",
        "                'Weighted Degree': weighted_degree,\n",
        "                'Eigenvector': eigenvector,\n",
        "                'Pagerank': pagerank,\n",
        "                'Betweenness': betweenness}\n",
        "\n",
        "df_ranking = pd.DataFrame(ranking_dict)\n",
        "df_ranking"
      ]
    },
    {
      "cell_type": "code",
      "execution_count": 13,
      "metadata": {
        "colab": {
          "base_uri": "https://localhost:8080/",
          "height": 744
        },
        "id": "cgReA-lgrlIc",
        "outputId": "ea0d69f6-8750-4f4b-f3e8-ed406381c4c2"
      },
      "outputs": [
        {
          "data": {
            "image/png": "[encoded data removed]",
            "text/plain": [
              "<Figure size 288x864 with 5 Axes>"
            ]
          },
          "metadata": {
            "needs_background": "light"
          },
          "output_type": "display_data"
        }
      ],
      "source": [
        "plot = df_ranking.plot(kind='bar', figsize=(4,12),fontsize=10, subplots=True, legend=None)\n",
        "for p in plot:\n",
        "    # p.set_xticks(df_ranking.index)\n",
        "    p.set_xticklabels(df_ranking['Node'], rotation=45)\n",
        "plt.show()"
      ]
    },
    {
      "cell_type": "markdown",
      "metadata": {
        "id": "klcLvTsoeuwh"
      },
      "source": [
        "# Per Season Graph"
      ]
    },
    {
      "cell_type": "code",
      "execution_count": null,
      "metadata": {
        "id": "D71_Gl_FiGEj"
      },
      "outputs": [],
      "source": []
    },
    {
      "cell_type": "markdown",
      "metadata": {
        "id": "nhshsmDAe67g"
      },
      "source": [
        "# Generative Model"
      ]
    },
    {
      "cell_type": "code",
      "execution_count": 14,
      "metadata": {
        "id": "dEftmPWCfCRR"
      },
      "outputs": [],
      "source": [
        "class GraphConvolution(Module):\n",
        "  def __init__(self, in_features, out_features, bias=True):\n",
        "    super(GraphConvolution, self).__init__()\n",
        "    self.in_features = in_features\n",
        "    self.out_features = out_features\n",
        "    self.weight = Parameter(torch.FloatTensor(in_features, out_features))\n",
        "    if bias:\n",
        "        self.bias = Parameter(torch.FloatTensor(out_features))\n",
        "    else:\n",
        "        self.register_parameter('bias', None)\n",
        "    self.reset_parameters()\n",
        " \n",
        "  def reset_parameters(self):\n",
        "    stdv = 1. / math.sqrt(self.weight.size(1))\n",
        "    self.weight.data.uniform_(-stdv, stdv)\n",
        "    if self.bias is not None:\n",
        "        self.bias.data.uniform_(-stdv, stdv)\n",
        "\n",
        "  def forward(self, input, adj):\n",
        "    support = torch.mm(input, self.weight)\n",
        "    output = torch.mm(adj, support)\n",
        "    if self.bias is not None:\n",
        "        return output + self.bias\n",
        "    else:\n",
        "        return output\n",
        "\n",
        "  def __repr__(self):\n",
        "    return self.__class__.__name__ + ' (' \\\n",
        "            + str(self.in_features) + ' -> ' \\\n",
        "            + str(self.out_features) + ')'"
      ]
    },
    {
      "cell_type": "code",
      "execution_count": 15,
      "metadata": {
        "id": "wiXzqN7v5Wjz"
      },
      "outputs": [],
      "source": [
        "class Encoder(nn.Module):\n",
        "  def __init__(self, nfeat, nhid, nclass, dropout):\n",
        "    super(Encoder, self).__init__()\n",
        "\n",
        "    self.conv = GraphConvolution(nfeat, nhid)\n",
        "    self.mu = GraphConvolution(nhid, nclass)   # 둘이 같은 거 아닌가\n",
        "    self.sig = GraphConvolution(nhid, nclass)  # \n",
        "\n",
        "    \n",
        "    self.dropout = dropout\n",
        "    self.embeddings = []\n",
        "\n",
        "  def forward(self, x, adj, save_embeddings = False):\n",
        "    x = F.relu(self.conv(x, adj))\n",
        "    mu = self.mu(x, adj)\n",
        "    logvar = self.sig(x, adj)\n",
        "    return mu, logvar\n",
        "    "
      ]
    },
    {
      "cell_type": "code",
      "execution_count": null,
      "metadata": {
        "id": "YAw69RKpzSkd"
      },
      "outputs": [],
      "source": [
        "from torch_geometric.nn.models import InnerProductDecoder, VGAE"
      ]
    },
    {
      "cell_type": "code",
      "execution_count": null,
      "metadata": {
        "id": "Bp9yVz4A5Ka2"
      },
      "outputs": [],
      "source": []
    },
    {
      "cell_type": "code",
      "execution_count": null,
      "metadata": {
        "id": "tbdANBJicAnM"
      },
      "outputs": [],
      "source": [
        "class Decoder(nn.Module):\n",
        "  def __init__(self, latent_dim, output_dim):\n",
        "    super(Decoder, self).__init__()\n",
        "    self.decoder = InnerProductDecoder()\n",
        "    \n",
        "\n",
        "\n",
        "  def forward_all(self, x, sigmoid = 'True'):\n",
        "    #first find whether there is edge or not => THis would be the reconstruction loss\n",
        "    #then find the weights\n",
        "    y = self.decoder.forward_all(x, sigmoid = sigmoid)\n",
        "    return y\n",
        "\n",
        "  def forward(self, x, edge_index , sigmoid = 'True'):\n",
        "    y = self.decoder(x, edge_index, sigmoid = sigmoid)\n",
        "    return y\n",
        "\n",
        "\n",
        "\n"
      ]
    },
    {
      "cell_type": "code",
      "execution_count": null,
      "metadata": {
        "id": "tgVqkdRvyji8"
      },
      "outputs": [],
      "source": [
        "from torch_geometric.utils import negative_sampling, remove_self_loops, add_self_loops\n",
        "\n",
        "class DeepVGAE(VGAE):\n",
        "  def __init__(self):\n",
        "    super(DeepVGAE, self).__init__(encoder=Encoder(10, 20, 1, dropout), decoder= Decoder(42,1))\n",
        "\n",
        "\n",
        "  def forward(self, x, adj):\n",
        "    z = self.encode(x, adj)\n",
        "    adj_pred = self.decoder.forward_all(z)\n",
        "    return adj_pred\n",
        "\n",
        "  def loss(self, x, adj, pos_edge_index, all_edge_index):\n",
        "    z = self.encode(x, adj)\n",
        "\n",
        "    kl_loss = 1 / x.size(0) * self.kl_loss()\n",
        "\n",
        "    return self.recon_loss(z, pos_edge_index) + kl_loss\n",
        "\n"
      ]
    },
    {
      "cell_type": "code",
      "execution_count": null,
      "metadata": {
        "id": "dwFMRHl56E0Z"
      },
      "outputs": [],
      "source": [
        "enc = Encoder(10, 20, 1, dropout)"
      ]
    },
    {
      "cell_type": "code",
      "execution_count": null,
      "metadata": {
        "id": "3kDukn786JhJ"
      },
      "outputs": [],
      "source": [
        "model = DeepVGAE()"
      ]
    },
    {
      "cell_type": "code",
      "execution_count": null,
      "metadata": {
        "id": "CcxuCBiT65Fv"
      },
      "outputs": [],
      "source": [
        "optimizer = torch.optim.Adam(model.parameters(), lr=0.001)"
      ]
    },
    {
      "cell_type": "code",
      "execution_count": null,
      "metadata": {
        "id": "o5NA_6JO7VeO"
      },
      "outputs": [],
      "source": [
        "out = model(features, adj)\n"
      ]
    },
    {
      "cell_type": "code",
      "execution_count": null,
      "metadata": {
        "id": "whzcj9MM7VZP"
      },
      "outputs": [],
      "source": [
        "l = model.loss(features, adj, pyg_graph.edge_index, pyg_graph.edge_index)\n",
        "print(l)\n",
        "l.backward()"
      ]
    },
    {
      "cell_type": "code",
      "execution_count": null,
      "metadata": {
        "colab": {
          "base_uri": "https://localhost:8080/",
          "height": 172
        },
        "id": "XXM19tAbsUV7",
        "outputId": "c506d1d0-0145-4fc7-bd2a-41a7ce3c410a"
      },
      "outputs": [
        {
          "ename": "NameError",
          "evalue": "ignored",
          "output_type": "error",
          "traceback": [
            "\u001b[0;31m---------------------------------------------------------------------------\u001b[0m",
            "\u001b[0;31mNameError\u001b[0m                                 Traceback (most recent call last)",
            "\u001b[0;32m<ipython-input-2-666787aa55ca>\u001b[0m in \u001b[0;36m<module>\u001b[0;34m\u001b[0m\n\u001b[0;32m----> 1\u001b[0;31m \u001b[0moptimizer\u001b[0m\u001b[0;34m.\u001b[0m\u001b[0mstep\u001b[0m\u001b[0;34m(\u001b[0m\u001b[0;34m)\u001b[0m\u001b[0;34m\u001b[0m\u001b[0;34m\u001b[0m\u001b[0m\n\u001b[0m",
            "\u001b[0;31mNameError\u001b[0m: name 'optimizer' is not defined"
          ]
        }
      ],
      "source": [
        "optimizer.step()"
      ]
    },
    {
      "cell_type": "code",
      "execution_count": null,
      "metadata": {
        "id": "7ZI5A64-61dy"
      },
      "outputs": [],
      "source": [
        "from torch_geometric.utils.convert import from_networkx\n",
        "pyg_graph = from_networkx(graph)"
      ]
    },
    {
      "cell_type": "code",
      "execution_count": null,
      "metadata": {
        "id": "ci1T5Y4k7jB6"
      },
      "outputs": [],
      "source": []
    },
    {
      "cell_type": "code",
      "execution_count": null,
      "metadata": {
        "id": "bfdGwhR_7sNC"
      },
      "outputs": [],
      "source": []
    }
  ],
  "metadata": {
    "colab": {
      "provenance": []
    },
    "kernelspec": {
      "display_name": "Python 3.9.7 64-bit",
      "language": "python",
      "name": "python3"
    },
    "language_info": {
      "name": "python",
      "version": "3.9.7"
    },
    "vscode": {
      "interpreter": {
        "hash": "aee8b7b246df8f9039afb4144a1f6fd8d2ca17a180786b69acc140d282b71a49"
      }
    }
  },
  "nbformat": 4,
  "nbformat_minor": 0
}
